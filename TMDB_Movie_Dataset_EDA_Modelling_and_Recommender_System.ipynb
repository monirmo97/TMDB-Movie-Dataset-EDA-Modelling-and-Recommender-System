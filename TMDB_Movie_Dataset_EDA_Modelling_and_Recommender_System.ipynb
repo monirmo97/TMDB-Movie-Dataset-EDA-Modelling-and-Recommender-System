{
  "nbformat": 4,
  "nbformat_minor": 0,
  "metadata": {
    "colab": {
      "provenance": []
    },
    "kernelspec": {
      "name": "python3",
      "display_name": "Python 3"
    },
    "language_info": {
      "name": "python"
    }
  },
  "cells": [
    {
      "cell_type": "markdown",
      "source": [
        "# **Read and merge datasets**"
      ],
      "metadata": {
        "id": "RXpBu7pZrwLb"
      }
    },
    {
      "cell_type": "code",
      "source": [
        "import pandas as pd\n",
        "\n",
        "movies = pd.read_csv('/content/drive/MyDrive/tmdb_5000_movies.csv')\n",
        "\n",
        "credits = pd.read_csv('/content/drive/MyDrive/tmdb_5000_credits.csv')\n"
      ],
      "metadata": {
        "id": "PPPUk8-sr1XY"
      },
      "execution_count": 154,
      "outputs": []
    },
    {
      "cell_type": "code",
      "source": [
        "movies.info()"
      ],
      "metadata": {
        "id": "ICNcA6Q5Buon"
      },
      "execution_count": null,
      "outputs": []
    },
    {
      "cell_type": "code",
      "source": [
        "credits.info()"
      ],
      "metadata": {
        "id": "t6XEp6YjBxq3"
      },
      "execution_count": null,
      "outputs": []
    },
    {
      "cell_type": "code",
      "source": [
        "credits.head(5)"
      ],
      "metadata": {
        "id": "pJ1CqATQFj4Z"
      },
      "execution_count": null,
      "outputs": []
    },
    {
      "cell_type": "code",
      "source": [
        "credits.columns = ['id','title','cast','crew']\n",
        "movies= movies.merge(credits,on='id')"
      ],
      "metadata": {
        "id": "-RrHcii0Bn__"
      },
      "execution_count": 155,
      "outputs": []
    },
    {
      "cell_type": "markdown",
      "source": [
        "Note1. In this part to have a comprehensive dataset two CSV files were merged"
      ],
      "metadata": {
        "id": "zbC86NgM9ZVF"
      }
    },
    {
      "cell_type": "markdown",
      "source": [
        "# **Data cleaning**"
      ],
      "metadata": {
        "id": "qY6EEpkW7VQL"
      }
    },
    {
      "cell_type": "code",
      "source": [
        "movies.info()"
      ],
      "metadata": {
        "id": "iHoGQvNZCpPP"
      },
      "execution_count": null,
      "outputs": []
    },
    {
      "cell_type": "markdown",
      "source": [
        "# **Handle Null and doplicate rows**\n",
        "\n"
      ],
      "metadata": {
        "id": "ykFIJTMu7zqW"
      }
    },
    {
      "cell_type": "code",
      "source": [
        "movies.isnull().sum()"
      ],
      "metadata": {
        "colab": {
          "base_uri": "https://localhost:8080/"
        },
        "id": "1cAnLbLfFKqQ",
        "outputId": "f5400f15-5643-4b07-87a3-b21cae976e70"
      },
      "execution_count": 156,
      "outputs": [
        {
          "output_type": "execute_result",
          "data": {
            "text/plain": [
              "budget                     0\n",
              "genres                     0\n",
              "homepage                3091\n",
              "id                         0\n",
              "keywords                   0\n",
              "original_language          0\n",
              "original_title             0\n",
              "overview                   3\n",
              "popularity                 0\n",
              "production_companies       0\n",
              "production_countries       0\n",
              "release_date               1\n",
              "revenue                    0\n",
              "runtime                    2\n",
              "spoken_languages           0\n",
              "status                     0\n",
              "tagline                  844\n",
              "title_x                    0\n",
              "vote_average               0\n",
              "vote_count                 0\n",
              "title_y                    0\n",
              "cast                       0\n",
              "crew                       0\n",
              "dtype: int64"
            ]
          },
          "metadata": {},
          "execution_count": 156
        }
      ]
    },
    {
      "cell_type": "code",
      "source": [
        "movies['homepage'].fillna('No Homepage', inplace=True)\n",
        "movies['tagline'].fillna('No Tagline', inplace=True)"
      ],
      "metadata": {
        "id": "vrt_41IN74V8"
      },
      "execution_count": 157,
      "outputs": []
    },
    {
      "cell_type": "code",
      "source": [
        "movies.dropna(inplace=True)"
      ],
      "metadata": {
        "id": "ig-eCah_RpT7"
      },
      "execution_count": 158,
      "outputs": []
    },
    {
      "cell_type": "code",
      "source": [
        "movies.drop_duplicates(inplace=True)"
      ],
      "metadata": {
        "id": "QvsxhbuM8CZj"
      },
      "execution_count": 159,
      "outputs": []
    },
    {
      "cell_type": "code",
      "source": [
        "movies.isnull().sum()"
      ],
      "metadata": {
        "colab": {
          "base_uri": "https://localhost:8080/"
        },
        "id": "YKrNOsTCR2OW",
        "outputId": "9e35c65d-f3c9-4df5-ec0a-05712c3d0793"
      },
      "execution_count": 146,
      "outputs": [
        {
          "output_type": "execute_result",
          "data": {
            "text/plain": [
              "budget                  0\n",
              "genres                  0\n",
              "homepage                0\n",
              "id                      0\n",
              "keywords                0\n",
              "original_language       0\n",
              "original_title          0\n",
              "overview                0\n",
              "popularity              0\n",
              "production_companies    0\n",
              "production_countries    0\n",
              "release_date            0\n",
              "revenue                 0\n",
              "runtime                 0\n",
              "spoken_languages        0\n",
              "status                  0\n",
              "tagline                 0\n",
              "title_x                 0\n",
              "vote_average            0\n",
              "vote_count              0\n",
              "title_y                 0\n",
              "cast                    0\n",
              "crew                    0\n",
              "dtype: int64"
            ]
          },
          "metadata": {},
          "execution_count": 146
        }
      ]
    },
    {
      "cell_type": "markdown",
      "source": [
        "Note2. Two features, the homepage (more than 3000 lines) and tagline (more than 800) had a large number of nulls compared to the total number of lines (4802).\n",
        "In this situation, it is not possible to easily delete rows with null values.\n",
        "There are different methods such as Text Analysis, Imputation with a Placeholder, Feature Engineering, and Modeling with Missing Values to handle the missing values which can be chosen according to the goal of the projects.\n",
        "Since the goal of this project is to find out whether a film was profitable or not, and considering having two columns (budget and revenue) we can delete columns with missing values in the next steps.\n",
        "As a result, in the stage of data cleaning, I applied the \" Imputation with a Placeholder\" method and filled the null values in these two columns with \"No Homepage\" and \"No Tagline\".\n",
        "\n",
        "Moreover, there are a few numbers of null values in other columns which I drop them"
      ],
      "metadata": {
        "id": "C8n_dPDO8ail"
      }
    },
    {
      "cell_type": "markdown",
      "source": [
        "# **Handle Missing and outliers values**"
      ],
      "metadata": {
        "id": "wj8QQiXp-FwN"
      }
    },
    {
      "cell_type": "code",
      "source": [
        "movies.info()"
      ],
      "metadata": {
        "id": "TLgMDCOHSL_g"
      },
      "execution_count": null,
      "outputs": []
    },
    {
      "cell_type": "code",
      "source": [
        "df = movies"
      ],
      "metadata": {
        "id": "MeHrmk9dU5yi"
      },
      "execution_count": 160,
      "outputs": []
    },
    {
      "cell_type": "code",
      "source": [
        "df.info()"
      ],
      "metadata": {
        "colab": {
          "base_uri": "https://localhost:8080/"
        },
        "id": "5M2Sp4gjXJzR",
        "outputId": "c6d3b7b7-5edc-4a5d-e364-a47409f1910d"
      },
      "execution_count": 161,
      "outputs": [
        {
          "output_type": "stream",
          "name": "stdout",
          "text": [
            "<class 'pandas.core.frame.DataFrame'>\n",
            "Int64Index: 4799 entries, 0 to 4802\n",
            "Data columns (total 23 columns):\n",
            " #   Column                Non-Null Count  Dtype  \n",
            "---  ------                --------------  -----  \n",
            " 0   budget                4799 non-null   int64  \n",
            " 1   genres                4799 non-null   object \n",
            " 2   homepage              4799 non-null   object \n",
            " 3   id                    4799 non-null   int64  \n",
            " 4   keywords              4799 non-null   object \n",
            " 5   original_language     4799 non-null   object \n",
            " 6   original_title        4799 non-null   object \n",
            " 7   overview              4799 non-null   object \n",
            " 8   popularity            4799 non-null   float64\n",
            " 9   production_companies  4799 non-null   object \n",
            " 10  production_countries  4799 non-null   object \n",
            " 11  release_date          4799 non-null   object \n",
            " 12  revenue               4799 non-null   int64  \n",
            " 13  runtime               4799 non-null   float64\n",
            " 14  spoken_languages      4799 non-null   object \n",
            " 15  status                4799 non-null   object \n",
            " 16  tagline               4799 non-null   object \n",
            " 17  title_x               4799 non-null   object \n",
            " 18  vote_average          4799 non-null   float64\n",
            " 19  vote_count            4799 non-null   int64  \n",
            " 20  title_y               4799 non-null   object \n",
            " 21  cast                  4799 non-null   object \n",
            " 22  crew                  4799 non-null   object \n",
            "dtypes: float64(3), int64(4), object(16)\n",
            "memory usage: 899.8+ KB\n"
          ]
        }
      ]
    },
    {
      "cell_type": "code",
      "source": [
        "# Iterate over each cell in the DataFrame\n",
        "for index, row in df.iterrows():\n",
        "    for column in df.columns:\n",
        "        # Check if the cell contains an empty list []\n",
        "        if row[column] == \"[]\":\n",
        "            # Handle empty list based on your specific needs\n",
        "            # For example, replace it with NaN\n",
        "            df.at[index, column] = float('nan')  # or np.nan if numpy is imported"
      ],
      "metadata": {
        "id": "-HDZbYr_U2Qz"
      },
      "execution_count": 162,
      "outputs": []
    },
    {
      "cell_type": "code",
      "source": [
        "df.isnull().sum()"
      ],
      "metadata": {
        "colab": {
          "base_uri": "https://localhost:8080/"
        },
        "id": "h8MvoiasVCmB",
        "outputId": "d7eedfee-35d1-4202-987d-e25808f27cfc"
      },
      "execution_count": 163,
      "outputs": [
        {
          "output_type": "execute_result",
          "data": {
            "text/plain": [
              "budget                    0\n",
              "genres                   27\n",
              "homepage                  0\n",
              "id                        0\n",
              "keywords                410\n",
              "original_language         0\n",
              "original_title            0\n",
              "overview                  0\n",
              "popularity                0\n",
              "production_companies    349\n",
              "production_countries    172\n",
              "release_date              0\n",
              "revenue                   0\n",
              "runtime                   0\n",
              "spoken_languages         84\n",
              "status                    0\n",
              "tagline                   0\n",
              "title_x                   0\n",
              "vote_average              0\n",
              "vote_count                0\n",
              "title_y                   0\n",
              "cast                     41\n",
              "crew                     27\n",
              "dtype: int64"
            ]
          },
          "metadata": {},
          "execution_count": 163
        }
      ]
    },
    {
      "cell_type": "code",
      "source": [
        "unique_values = df['production_countries'].unique()\n",
        "print(unique_values)"
      ],
      "metadata": {
        "id": "PCjOQapADmXa"
      },
      "execution_count": null,
      "outputs": []
    },
    {
      "cell_type": "code",
      "source": [
        "df.dropna(subset=['genres', 'cast', 'crew', 'spoken_languages','keywords', 'production_companies','production_countries'], inplace=True)"
      ],
      "metadata": {
        "id": "NImpm6pqVg2d"
      },
      "execution_count": 164,
      "outputs": []
    },
    {
      "cell_type": "code",
      "source": [
        "df.isnull().sum()"
      ],
      "metadata": {
        "colab": {
          "base_uri": "https://localhost:8080/"
        },
        "id": "szESBfcY4ZgF",
        "outputId": "d90f4013-60f4-43b5-a730-56119d755034"
      },
      "execution_count": 166,
      "outputs": [
        {
          "output_type": "execute_result",
          "data": {
            "text/plain": [
              "budget                  0\n",
              "genres                  0\n",
              "homepage                0\n",
              "id                      0\n",
              "keywords                0\n",
              "original_language       0\n",
              "original_title          0\n",
              "overview                0\n",
              "popularity              0\n",
              "production_companies    0\n",
              "production_countries    0\n",
              "release_date            0\n",
              "revenue                 0\n",
              "runtime                 0\n",
              "spoken_languages        0\n",
              "status                  0\n",
              "tagline                 0\n",
              "title_x                 0\n",
              "vote_average            0\n",
              "vote_count              0\n",
              "title_y                 0\n",
              "cast                    0\n",
              "crew                    0\n",
              "dtype: int64"
            ]
          },
          "metadata": {},
          "execution_count": 166
        }
      ]
    },
    {
      "cell_type": "markdown",
      "source": [
        "In the following, the features of['genres', 'cast', 'crew', 'spoken_languages','keywords', 'production_companies','production_countries'] had missing values, which I first converted to null and then deleted."
      ],
      "metadata": {
        "id": "d60GeDflf9Ix"
      }
    },
    {
      "cell_type": "code",
      "source": [
        "import pandas as pd\n",
        "from sklearn.ensemble import RandomForestClassifier\n",
        "from sklearn.model_selection import train_test_split\n",
        "from sklearn.metrics import accuracy_score\n",
        "\n",
        "# Data preprocessing\n",
        "# Convert categorical variables like 'original_language' to numerical format using one-hot encoding\n",
        "df = pd.get_dummies(df, columns=['original_language'])\n",
        "\n",
        "# Feature selection\n",
        "selected_features = ['budget', 'id', 'vote_count', 'original_language_en']  # Add more features as needed\n",
        "\n",
        "# Split data into features and target variable\n",
        "X = df[selected_features].dropna()  # Drop rows with missing values\n",
        "y = df.loc[X.index]['genres'].apply(lambda x: 0 if isinstance(x, float) else 1)  # 1 for non-null, 0 for null\n",
        "\n",
        "# Split data into training and testing sets\n",
        "X_train, X_test, y_train, y_test = train_test_split(X, y, test_size=0.2, random_state=42)\n",
        "\n",
        "# Train a Random Forest Classifier\n",
        "model = RandomForestClassifier()\n",
        "model.fit(X_train, y_train)\n",
        "\n",
        "# Predict genres for missing values\n",
        "predicted_genres = model.predict(X_test)\n",
        "\n",
        "# Add predicted genres to the original dataset\n",
        "df.loc[X_test.index, 'genres'] = predicted_genres\n",
        "\n",
        "# Evaluate the model (optional)\n",
        "accuracy = accuracy_score(y_test, model.predict(X_test))\n",
        "print(\"Accuracy:\", accuracy)\n",
        "\n",
        "# Save the updated dataset with predicted genres\n",
        "df.to_csv('updated_dataset.csv', index=False)\n",
        "\n",
        "\n",
        "\n"
      ],
      "metadata": {
        "colab": {
          "base_uri": "https://localhost:8080/"
        },
        "id": "yeFanzYK733n",
        "outputId": "e9bbc855-1bb3-42dd-af3b-fa2b92907007"
      },
      "execution_count": 88,
      "outputs": [
        {
          "output_type": "stream",
          "name": "stdout",
          "text": [
            "Accuracy: 0.9958333333333333\n"
          ]
        }
      ]
    },
    {
      "cell_type": "code",
      "source": [
        "# Extract unique genres\n",
        "unique_genres = set()\n",
        "for genres_list in df['production_countries']:\n",
        "    print(genres_list)\n",
        "    genres_list = eval(genres_list)\n",
        "    for genre in genres_list:\n",
        "        unique_genres.add(genre['name'])\n",
        "\n",
        "# Create binary features for each unique genre\n",
        "for genre in unique_genres:\n",
        "    df[genre] = df['production_countries'].apply(lambda x: 1 if genre in x else 0)\n",
        "\n",
        "# Drop the original 'genres' column\n",
        "df.drop(columns=['production_countries'], inplace=True)\n"
      ],
      "metadata": {
        "id": "EdTUbJmZubLR"
      },
      "execution_count": null,
      "outputs": []
    },
    {
      "cell_type": "code",
      "source": [
        "df.info()"
      ],
      "metadata": {
        "id": "K054lWgSXvAt"
      },
      "execution_count": null,
      "outputs": []
    }
  ]
}