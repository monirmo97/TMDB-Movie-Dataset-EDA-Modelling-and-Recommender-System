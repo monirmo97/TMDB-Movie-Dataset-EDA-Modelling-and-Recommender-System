{
  "nbformat": 4,
  "nbformat_minor": 0,
  "metadata": {
    "colab": {
      "provenance": []
    },
    "kernelspec": {
      "name": "python3",
      "display_name": "Python 3"
    },
    "language_info": {
      "name": "python"
    }
  },
  "cells": [
    {
      "cell_type": "code",
      "execution_count": null,
      "metadata": {
        "id": "NStLvCoA-uxX"
      },
      "outputs": [],
      "source": []
    },
    {
      "cell_type": "markdown",
      "source": [
        "# **Read and merge datasets**"
      ],
      "metadata": {
        "id": "RXpBu7pZrwLb"
      }
    },
    {
      "cell_type": "code",
      "source": [
        "import pandas as pd\n",
        "\n",
        "movies = pd.read_csv('/content/drive/MyDrive/tmdb_5000_movies.csv')\n",
        "\n",
        "credits = pd.read_csv('/content/drive/MyDrive/tmdb_5000_credits.csv')\n"
      ],
      "metadata": {
        "id": "PPPUk8-sr1XY"
      },
      "execution_count": 4,
      "outputs": []
    },
    {
      "cell_type": "code",
      "source": [
        "merged_data = movies.merge(credits, on='title')"
      ],
      "metadata": {
        "id": "YZdh622b5zTn"
      },
      "execution_count": 5,
      "outputs": []
    },
    {
      "cell_type": "code",
      "source": [
        "merged_data.tail(2)"
      ],
      "metadata": {
        "id": "KWty67-R6Jos"
      },
      "execution_count": null,
      "outputs": []
    },
    {
      "cell_type": "markdown",
      "source": [],
      "metadata": {
        "id": "tNcilO3k5cyG"
      }
    }
  ]
}